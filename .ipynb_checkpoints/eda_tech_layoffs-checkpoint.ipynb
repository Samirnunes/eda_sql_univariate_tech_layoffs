{
 "cells": [
  {
   "cell_type": "markdown",
   "id": "195bc8d1",
   "metadata": {},
   "source": [
    "# Análise de dados em SQL: Layoffs nas Empresas de Tecnologia (2022-2023)"
   ]
  },
  {
   "cell_type": "markdown",
   "id": "6f2f6b99",
   "metadata": {},
   "source": [
    "Fonte dos dados: Kaggle\n",
    "\n",
    "Link: https://www.kaggle.com/datasets/salimwid/technology-company-layoffs-20222023-data"
   ]
  },
  {
   "cell_type": "markdown",
   "id": "301ed404",
   "metadata": {},
   "source": [
    "## Importando bibliotecas"
   ]
  },
  {
   "cell_type": "code",
   "execution_count": 14,
   "id": "bbc3a254",
   "metadata": {},
   "outputs": [],
   "source": [
    "import pandas as pd\n",
    "import numpy as np\n",
    "import matplotlib.pyplot as plt\n",
    "import sqlite3"
   ]
  },
  {
   "cell_type": "markdown",
   "id": "db5954f9",
   "metadata": {},
   "source": [
    "## Adicionando ID's para as linhas"
   ]
  },
  {
   "cell_type": "code",
   "execution_count": 15,
   "id": "220bfaa4",
   "metadata": {},
   "outputs": [],
   "source": [
    "original_df = pd.read_csv('tech_layoffs_original.csv')"
   ]
  },
  {
   "cell_type": "code",
   "execution_count": 16,
   "id": "52b89d78",
   "metadata": {},
   "outputs": [],
   "source": [
    "original_df['ID'] = original_df.index"
   ]
  },
  {
   "cell_type": "markdown",
   "id": "a95b004d",
   "metadata": {},
   "source": [
    "Ajeitando a ordem das colunas:"
   ]
  },
  {
   "cell_type": "code",
   "execution_count": 17,
   "id": "4bd6dbb5",
   "metadata": {},
   "outputs": [],
   "source": [
    "cols = original_df.columns.to_list()"
   ]
  },
  {
   "cell_type": "code",
   "execution_count": 18,
   "id": "9b29b75e",
   "metadata": {},
   "outputs": [],
   "source": [
    "cols = cols[-1:] + cols[:-1]"
   ]
  },
  {
   "cell_type": "code",
   "execution_count": 19,
   "id": "e4a4b8b3",
   "metadata": {},
   "outputs": [],
   "source": [
    "new_df = original_df[cols]"
   ]
  },
  {
   "cell_type": "markdown",
   "id": "0936abf7",
   "metadata": {},
   "source": [
    "Passando para .csv:"
   ]
  },
  {
   "cell_type": "code",
   "execution_count": 20,
   "id": "fc40a704",
   "metadata": {},
   "outputs": [],
   "source": [
    "new_df.to_csv('tech_layoffs_new.csv', index = False)"
   ]
  },
  {
   "cell_type": "markdown",
   "id": "56f3dbf2",
   "metadata": {},
   "source": [
    "A partir desse arquivo, conseguimos criar um banco de dados SQLite para iniciarmos a conexão."
   ]
  },
  {
   "cell_type": "markdown",
   "id": "a5b0870a",
   "metadata": {},
   "source": [
    "## Conectando com o banco de dados SQLite"
   ]
  },
  {
   "cell_type": "code",
   "execution_count": 21,
   "id": "3557a304",
   "metadata": {},
   "outputs": [],
   "source": [
    "database = 'tech_layoffs.db'\n",
    "conn = sqlite3.connect(database)"
   ]
  },
  {
   "cell_type": "markdown",
   "id": "81354eb7",
   "metadata": {},
   "source": [
    "---"
   ]
  },
  {
   "cell_type": "markdown",
   "id": "39793f20",
   "metadata": {},
   "source": [
    "# Data Profiling: visão e estatísticas gerais"
   ]
  },
  {
   "cell_type": "markdown",
   "id": "11f28205",
   "metadata": {},
   "source": [
    "### Quantidade de linhas e colunas"
   ]
  },
  {
   "cell_type": "code",
   "execution_count": 22,
   "id": "94e6ca15",
   "metadata": {},
   "outputs": [
    {
     "name": "stdout",
     "output_type": "stream",
     "text": [
      "(linhas, colunas): (489, 10)\n"
     ]
    }
   ],
   "source": [
    "cols_info = pd.read_sql('''PRAGMA TABLE_INFO(data)''', conn)\n",
    "\n",
    "nrows = pd.read_sql('''SELECT COUNT(*) FROM data''', conn).values[0][0]\n",
    "ncols = len(cols_info)\n",
    "print(f'(linhas, colunas): ({nrows}, {ncols})')"
   ]
  },
  {
   "cell_type": "markdown",
   "id": "5c7ea600",
   "metadata": {},
   "source": [
    "### Descrição das colunas"
   ]
  },
  {
   "cell_type": "code",
   "execution_count": 23,
   "id": "5c9d7603",
   "metadata": {
    "scrolled": true
   },
   "outputs": [
    {
     "data": {
      "text/html": [
       "<div>\n",
       "<style scoped>\n",
       "    .dataframe tbody tr th:only-of-type {\n",
       "        vertical-align: middle;\n",
       "    }\n",
       "\n",
       "    .dataframe tbody tr th {\n",
       "        vertical-align: top;\n",
       "    }\n",
       "\n",
       "    .dataframe thead th {\n",
       "        text-align: right;\n",
       "    }\n",
       "</style>\n",
       "<table border=\"1\" class=\"dataframe\">\n",
       "  <thead>\n",
       "    <tr style=\"text-align: right;\">\n",
       "      <th></th>\n",
       "      <th>cid</th>\n",
       "      <th>name</th>\n",
       "      <th>type</th>\n",
       "      <th>notnull</th>\n",
       "      <th>dflt_value</th>\n",
       "      <th>pk</th>\n",
       "    </tr>\n",
       "  </thead>\n",
       "  <tbody>\n",
       "    <tr>\n",
       "      <th>0</th>\n",
       "      <td>0</td>\n",
       "      <td>ID</td>\n",
       "      <td>INTEGER</td>\n",
       "      <td>0</td>\n",
       "      <td>None</td>\n",
       "      <td>1</td>\n",
       "    </tr>\n",
       "    <tr>\n",
       "      <th>1</th>\n",
       "      <td>1</td>\n",
       "      <td>company</td>\n",
       "      <td>TEXT</td>\n",
       "      <td>0</td>\n",
       "      <td>None</td>\n",
       "      <td>0</td>\n",
       "    </tr>\n",
       "    <tr>\n",
       "      <th>2</th>\n",
       "      <td>2</td>\n",
       "      <td>total_layoffs</td>\n",
       "      <td>TEXT</td>\n",
       "      <td>0</td>\n",
       "      <td>None</td>\n",
       "      <td>0</td>\n",
       "    </tr>\n",
       "    <tr>\n",
       "      <th>3</th>\n",
       "      <td>3</td>\n",
       "      <td>impacted_workforce_percentage</td>\n",
       "      <td>TEXT</td>\n",
       "      <td>0</td>\n",
       "      <td>None</td>\n",
       "      <td>0</td>\n",
       "    </tr>\n",
       "    <tr>\n",
       "      <th>4</th>\n",
       "      <td>4</td>\n",
       "      <td>reported_date</td>\n",
       "      <td>TEXT</td>\n",
       "      <td>0</td>\n",
       "      <td>None</td>\n",
       "      <td>0</td>\n",
       "    </tr>\n",
       "    <tr>\n",
       "      <th>5</th>\n",
       "      <td>5</td>\n",
       "      <td>industry</td>\n",
       "      <td>TEXT</td>\n",
       "      <td>0</td>\n",
       "      <td>None</td>\n",
       "      <td>0</td>\n",
       "    </tr>\n",
       "    <tr>\n",
       "      <th>6</th>\n",
       "      <td>6</td>\n",
       "      <td>headquarter_location</td>\n",
       "      <td>TEXT</td>\n",
       "      <td>0</td>\n",
       "      <td>None</td>\n",
       "      <td>0</td>\n",
       "    </tr>\n",
       "    <tr>\n",
       "      <th>7</th>\n",
       "      <td>7</td>\n",
       "      <td>sources</td>\n",
       "      <td>TEXT</td>\n",
       "      <td>0</td>\n",
       "      <td>None</td>\n",
       "      <td>0</td>\n",
       "    </tr>\n",
       "    <tr>\n",
       "      <th>8</th>\n",
       "      <td>8</td>\n",
       "      <td>status</td>\n",
       "      <td>TEXT</td>\n",
       "      <td>0</td>\n",
       "      <td>None</td>\n",
       "      <td>0</td>\n",
       "    </tr>\n",
       "    <tr>\n",
       "      <th>9</th>\n",
       "      <td>9</td>\n",
       "      <td>additional_notes</td>\n",
       "      <td>TEXT</td>\n",
       "      <td>0</td>\n",
       "      <td>None</td>\n",
       "      <td>0</td>\n",
       "    </tr>\n",
       "  </tbody>\n",
       "</table>\n",
       "</div>"
      ],
      "text/plain": [
       "   cid                           name     type  notnull dflt_value  pk\n",
       "0    0                             ID  INTEGER        0       None   1\n",
       "1    1                        company     TEXT        0       None   0\n",
       "2    2                  total_layoffs     TEXT        0       None   0\n",
       "3    3  impacted_workforce_percentage     TEXT        0       None   0\n",
       "4    4                  reported_date     TEXT        0       None   0\n",
       "5    5                       industry     TEXT        0       None   0\n",
       "6    6           headquarter_location     TEXT        0       None   0\n",
       "7    7                        sources     TEXT        0       None   0\n",
       "8    8                         status     TEXT        0       None   0\n",
       "9    9               additional_notes     TEXT        0       None   0"
      ]
     },
     "execution_count": 23,
     "metadata": {},
     "output_type": "execute_result"
    }
   ],
   "source": [
    "cols_info"
   ]
  },
  {
   "cell_type": "markdown",
   "id": "e57b1253",
   "metadata": {},
   "source": [
    "- __ID__: chave primária inteira;\n",
    "\n",
    "- __company__: empresa que realizou o layoff (demissão em massa);\n",
    "\n",
    "- __total_layoffs__: número de layoffs até janeiro de 2023;\n",
    "\n",
    "- __impacted_workforce_percentage__: porcentagem da força de trabalho total da empresa que foi demitida pelos layoffs;\n",
    "\n",
    "- __reported_date__: data em que o primeiro layoff ou planos de layoff da empresa foram anunciados;\n",
    "\n",
    "- __industry__: segmentos de atuação da empresa;\n",
    "\n",
    "- __headquarter_location__: localização da sede da empresa;\n",
    "\n",
    "- __sources__: fonte dos dados;\n",
    "\n",
    "- __status__: se a empresa é pública ou privada.\n",
    "\n",
    "- __additional_notes__: notas adicionais sobre o plano de layoffs da empresa."
   ]
  },
  {
   "cell_type": "markdown",
   "id": "927cb7d2",
   "metadata": {},
   "source": [
    "### Valores iniciais e finais do dataframe"
   ]
  },
  {
   "cell_type": "code",
   "execution_count": 24,
   "id": "1feb7da9",
   "metadata": {},
   "outputs": [
    {
     "data": {
      "text/html": [
       "<div>\n",
       "<style scoped>\n",
       "    .dataframe tbody tr th:only-of-type {\n",
       "        vertical-align: middle;\n",
       "    }\n",
       "\n",
       "    .dataframe tbody tr th {\n",
       "        vertical-align: top;\n",
       "    }\n",
       "\n",
       "    .dataframe thead th {\n",
       "        text-align: right;\n",
       "    }\n",
       "</style>\n",
       "<table border=\"1\" class=\"dataframe\">\n",
       "  <thead>\n",
       "    <tr style=\"text-align: right;\">\n",
       "      <th></th>\n",
       "      <th>ID</th>\n",
       "      <th>company</th>\n",
       "      <th>total_layoffs</th>\n",
       "      <th>impacted_workforce_percentage</th>\n",
       "      <th>reported_date</th>\n",
       "      <th>industry</th>\n",
       "      <th>headquarter_location</th>\n",
       "      <th>sources</th>\n",
       "      <th>status</th>\n",
       "      <th>additional_notes</th>\n",
       "    </tr>\n",
       "  </thead>\n",
       "  <tbody>\n",
       "    <tr>\n",
       "      <th>0</th>\n",
       "      <td>0</td>\n",
       "      <td>C2FO</td>\n",
       "      <td>20</td>\n",
       "      <td>2</td>\n",
       "      <td>12/9/2022</td>\n",
       "      <td>Fintech, payments</td>\n",
       "      <td>Leawood, KS</td>\n",
       "      <td>Kansas City Business Journal</td>\n",
       "      <td>Private</td>\n",
       "      <td></td>\n",
       "    </tr>\n",
       "    <tr>\n",
       "      <th>1</th>\n",
       "      <td>1</td>\n",
       "      <td>VideoAmp</td>\n",
       "      <td>Unclear</td>\n",
       "      <td>2</td>\n",
       "      <td>9/19/2022</td>\n",
       "      <td>Advertising platforms</td>\n",
       "      <td>Los Angeles</td>\n",
       "      <td>Company memo</td>\n",
       "      <td>Private</td>\n",
       "      <td></td>\n",
       "    </tr>\n",
       "    <tr>\n",
       "      <th>2</th>\n",
       "      <td>2</td>\n",
       "      <td>Amperity</td>\n",
       "      <td>13</td>\n",
       "      <td>3</td>\n",
       "      <td>8/20/2022</td>\n",
       "      <td>Saas, analytics</td>\n",
       "      <td>Seattle</td>\n",
       "      <td>Geekwire</td>\n",
       "      <td>Private</td>\n",
       "      <td></td>\n",
       "    </tr>\n",
       "    <tr>\n",
       "      <th>3</th>\n",
       "      <td>3</td>\n",
       "      <td>Addepar</td>\n",
       "      <td>20</td>\n",
       "      <td>3</td>\n",
       "      <td>1/18/2023</td>\n",
       "      <td>fintech, data analytics</td>\n",
       "      <td>Mountain View, CA</td>\n",
       "      <td>Fortune</td>\n",
       "      <td>Private</td>\n",
       "      <td></td>\n",
       "    </tr>\n",
       "    <tr>\n",
       "      <th>4</th>\n",
       "      <td>4</td>\n",
       "      <td>Thirty Madison</td>\n",
       "      <td>24</td>\n",
       "      <td>3</td>\n",
       "      <td>5/13/2022</td>\n",
       "      <td>Health Care</td>\n",
       "      <td>New York</td>\n",
       "      <td>Axios</td>\n",
       "      <td>Private</td>\n",
       "      <td>Per Axios, 22 of the employees laid off were f...</td>\n",
       "    </tr>\n",
       "  </tbody>\n",
       "</table>\n",
       "</div>"
      ],
      "text/plain": [
       "   ID         company total_layoffs impacted_workforce_percentage  \\\n",
       "0   0            C2FO            20                             2   \n",
       "1   1        VideoAmp       Unclear                             2   \n",
       "2   2        Amperity            13                             3   \n",
       "3   3         Addepar            20                             3   \n",
       "4   4  Thirty Madison            24                             3   \n",
       "\n",
       "  reported_date                 industry headquarter_location  \\\n",
       "0     12/9/2022        Fintech, payments          Leawood, KS   \n",
       "1     9/19/2022    Advertising platforms          Los Angeles   \n",
       "2     8/20/2022          Saas, analytics              Seattle   \n",
       "3     1/18/2023  fintech, data analytics    Mountain View, CA   \n",
       "4     5/13/2022              Health Care             New York   \n",
       "\n",
       "                        sources   status  \\\n",
       "0  Kansas City Business Journal  Private   \n",
       "1                  Company memo  Private   \n",
       "2                      Geekwire  Private   \n",
       "3                       Fortune  Private   \n",
       "4                         Axios  Private   \n",
       "\n",
       "                                    additional_notes  \n",
       "0                                                     \n",
       "1                                                     \n",
       "2                                                     \n",
       "3                                                     \n",
       "4  Per Axios, 22 of the employees laid off were f...  "
      ]
     },
     "execution_count": 24,
     "metadata": {},
     "output_type": "execute_result"
    }
   ],
   "source": [
    "pd.read_sql('''SELECT * FROM data \n",
    "               LIMIT 5''', conn)"
   ]
  },
  {
   "cell_type": "code",
   "execution_count": 28,
   "id": "89168557",
   "metadata": {},
   "outputs": [
    {
     "data": {
      "text/html": [
       "<div>\n",
       "<style scoped>\n",
       "    .dataframe tbody tr th:only-of-type {\n",
       "        vertical-align: middle;\n",
       "    }\n",
       "\n",
       "    .dataframe tbody tr th {\n",
       "        vertical-align: top;\n",
       "    }\n",
       "\n",
       "    .dataframe thead th {\n",
       "        text-align: right;\n",
       "    }\n",
       "</style>\n",
       "<table border=\"1\" class=\"dataframe\">\n",
       "  <thead>\n",
       "    <tr style=\"text-align: right;\">\n",
       "      <th></th>\n",
       "      <th>ID</th>\n",
       "      <th>company</th>\n",
       "      <th>total_layoffs</th>\n",
       "      <th>impacted_workforce_percentage</th>\n",
       "      <th>reported_date</th>\n",
       "      <th>industry</th>\n",
       "      <th>headquarter_location</th>\n",
       "      <th>sources</th>\n",
       "      <th>status</th>\n",
       "      <th>additional_notes</th>\n",
       "    </tr>\n",
       "  </thead>\n",
       "  <tbody>\n",
       "    <tr>\n",
       "      <th>0</th>\n",
       "      <td>488</td>\n",
       "      <td>Blueboard</td>\n",
       "      <td>Unclear</td>\n",
       "      <td>Unclear</td>\n",
       "      <td>11/3/2022</td>\n",
       "      <td>Enterprise Software</td>\n",
       "      <td>San Francisco</td>\n",
       "      <td>LinkedIn reports</td>\n",
       "      <td>Private</td>\n",
       "      <td></td>\n",
       "    </tr>\n",
       "    <tr>\n",
       "      <th>1</th>\n",
       "      <td>487</td>\n",
       "      <td>Skillz</td>\n",
       "      <td>Unclear</td>\n",
       "      <td>Unclear</td>\n",
       "      <td>8/29/2022</td>\n",
       "      <td>Mobile Apps, Gaming</td>\n",
       "      <td>San Francisco</td>\n",
       "      <td>Seeking Alpha</td>\n",
       "      <td>Public</td>\n",
       "      <td></td>\n",
       "    </tr>\n",
       "    <tr>\n",
       "      <th>2</th>\n",
       "      <td>486</td>\n",
       "      <td>LivePerson</td>\n",
       "      <td>Unclear</td>\n",
       "      <td>Unclear</td>\n",
       "      <td>9/15/2022</td>\n",
       "      <td>Customer service</td>\n",
       "      <td>New York</td>\n",
       "      <td>LinkedIn</td>\n",
       "      <td>Public</td>\n",
       "      <td></td>\n",
       "    </tr>\n",
       "    <tr>\n",
       "      <th>3</th>\n",
       "      <td>485</td>\n",
       "      <td>Oracle</td>\n",
       "      <td>Unclear</td>\n",
       "      <td>Unclear</td>\n",
       "      <td>8/1/2022</td>\n",
       "      <td>SaaS, enterprise software</td>\n",
       "      <td>Austin</td>\n",
       "      <td>The Information</td>\n",
       "      <td>Public</td>\n",
       "      <td>The Information reported thousands of people w...</td>\n",
       "    </tr>\n",
       "    <tr>\n",
       "      <th>4</th>\n",
       "      <td>484</td>\n",
       "      <td>Salesforce</td>\n",
       "      <td>9090</td>\n",
       "      <td>Unclear</td>\n",
       "      <td>1/4/2023</td>\n",
       "      <td>enterprise tech, analytics</td>\n",
       "      <td>San Francisco</td>\n",
       "      <td>New York Times</td>\n",
       "      <td>Public</td>\n",
       "      <td></td>\n",
       "    </tr>\n",
       "  </tbody>\n",
       "</table>\n",
       "</div>"
      ],
      "text/plain": [
       "    ID     company total_layoffs impacted_workforce_percentage reported_date  \\\n",
       "0  488   Blueboard       Unclear                       Unclear     11/3/2022   \n",
       "1  487      Skillz       Unclear                       Unclear     8/29/2022   \n",
       "2  486  LivePerson       Unclear                       Unclear     9/15/2022   \n",
       "3  485      Oracle       Unclear                       Unclear      8/1/2022   \n",
       "4  484  Salesforce          9090                       Unclear      1/4/2023   \n",
       "\n",
       "                     industry headquarter_location           sources   status  \\\n",
       "0         Enterprise Software        San Francisco  LinkedIn reports  Private   \n",
       "1         Mobile Apps, Gaming        San Francisco     Seeking Alpha   Public   \n",
       "2            Customer service             New York          LinkedIn   Public   \n",
       "3   SaaS, enterprise software               Austin   The Information   Public   \n",
       "4  enterprise tech, analytics        San Francisco    New York Times   Public   \n",
       "\n",
       "                                    additional_notes  \n",
       "0                                                     \n",
       "1                                                     \n",
       "2                                                     \n",
       "3  The Information reported thousands of people w...  \n",
       "4                                                     "
      ]
     },
     "execution_count": 28,
     "metadata": {},
     "output_type": "execute_result"
    }
   ],
   "source": [
    "pd.read_sql('''SELECT * FROM data \n",
    "               ORDER BY ID DESC\n",
    "               LIMIT 5''', conn)"
   ]
  },
  {
   "cell_type": "markdown",
   "id": "ead60851",
   "metadata": {},
   "source": [
    "## Análise univariada: estudando cada coluna separadamente"
   ]
  },
  {
   "cell_type": "markdown",
   "id": "de00b779",
   "metadata": {},
   "source": [
    "### company"
   ]
  },
  {
   "cell_type": "code",
   "execution_count": null,
   "id": "7ec6b38f",
   "metadata": {},
   "outputs": [],
   "source": []
  },
  {
   "cell_type": "markdown",
   "id": "42dc7d25",
   "metadata": {},
   "source": [
    "### total_layoffs"
   ]
  },
  {
   "cell_type": "code",
   "execution_count": null,
   "id": "2e2cd959",
   "metadata": {},
   "outputs": [],
   "source": []
  },
  {
   "cell_type": "markdown",
   "id": "12ebc831",
   "metadata": {},
   "source": [
    "### impacted_workforce_percentage"
   ]
  },
  {
   "cell_type": "code",
   "execution_count": null,
   "id": "c7a2dc55",
   "metadata": {},
   "outputs": [],
   "source": []
  },
  {
   "cell_type": "markdown",
   "id": "e35f9161",
   "metadata": {},
   "source": [
    "### reported_date"
   ]
  },
  {
   "cell_type": "code",
   "execution_count": null,
   "id": "79667a39",
   "metadata": {},
   "outputs": [],
   "source": []
  },
  {
   "cell_type": "markdown",
   "id": "9591e8b8",
   "metadata": {},
   "source": [
    "### industry"
   ]
  },
  {
   "cell_type": "code",
   "execution_count": null,
   "id": "b05241c9",
   "metadata": {},
   "outputs": [],
   "source": []
  },
  {
   "cell_type": "markdown",
   "id": "36471de5",
   "metadata": {},
   "source": [
    "### headquarter_location"
   ]
  },
  {
   "cell_type": "code",
   "execution_count": null,
   "id": "07a5dd19",
   "metadata": {},
   "outputs": [],
   "source": []
  },
  {
   "cell_type": "markdown",
   "id": "0e7c2d2b",
   "metadata": {},
   "source": [
    "### sources"
   ]
  },
  {
   "cell_type": "code",
   "execution_count": null,
   "id": "4528cc90",
   "metadata": {},
   "outputs": [],
   "source": []
  },
  {
   "cell_type": "markdown",
   "id": "12711e65",
   "metadata": {},
   "source": [
    "### status"
   ]
  },
  {
   "cell_type": "code",
   "execution_count": null,
   "id": "0d0eb86c",
   "metadata": {},
   "outputs": [],
   "source": []
  },
  {
   "cell_type": "markdown",
   "id": "55f0e1a0",
   "metadata": {},
   "source": [
    "### additional_notes"
   ]
  },
  {
   "cell_type": "code",
   "execution_count": null,
   "id": "64856a09",
   "metadata": {},
   "outputs": [],
   "source": []
  },
  {
   "cell_type": "markdown",
   "id": "595dd278",
   "metadata": {},
   "source": [
    "---"
   ]
  },
  {
   "cell_type": "markdown",
   "id": "1ef9baf9",
   "metadata": {},
   "source": [
    "## Análise multivariada: estudando colunas em conjunto"
   ]
  },
  {
   "cell_type": "code",
   "execution_count": null,
   "id": "ee5d7bb6",
   "metadata": {},
   "outputs": [],
   "source": []
  },
  {
   "cell_type": "markdown",
   "id": "8b29e106",
   "metadata": {},
   "source": [
    "---"
   ]
  },
  {
   "cell_type": "markdown",
   "id": "b6645fab",
   "metadata": {},
   "source": [
    "## Conclusões"
   ]
  },
  {
   "cell_type": "code",
   "execution_count": null,
   "id": "90daaa57",
   "metadata": {},
   "outputs": [],
   "source": []
  },
  {
   "cell_type": "markdown",
   "id": "fe064b58",
   "metadata": {},
   "source": [
    "---"
   ]
  }
 ],
 "metadata": {
  "kernelspec": {
   "display_name": "Python 3 (ipykernel)",
   "language": "python",
   "name": "python3"
  },
  "language_info": {
   "codemirror_mode": {
    "name": "ipython",
    "version": 3
   },
   "file_extension": ".py",
   "mimetype": "text/x-python",
   "name": "python",
   "nbconvert_exporter": "python",
   "pygments_lexer": "ipython3",
   "version": "3.11.1"
  }
 },
 "nbformat": 4,
 "nbformat_minor": 5
}
